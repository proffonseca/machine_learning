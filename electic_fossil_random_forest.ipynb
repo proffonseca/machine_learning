{
 "cells": [
  {
   "cell_type": "code",
   "execution_count": 8,
   "metadata": {},
   "outputs": [
    {
     "name": "stdout",
     "output_type": "stream",
     "text": [
      "              electric_or_fossil  is_electric\n",
      "0                       electric            1\n",
      "1          Hyundai Kona Electric            1\n",
      "2                        Kia EV6            1\n",
      "3                       MG ZS EV            1\n",
      "4                         BMW i4            1\n",
      "..                           ...          ...\n",
      "205     Mercedes-Benz AMG A 45 S            0\n",
      "206  BMW 3 Series Gran Limousine            0\n",
      "207               MG Hector Plus            0\n",
      "208                   Audi RS Q8            0\n",
      "209         Maruti Alto 800 tour            0\n",
      "\n",
      "[210 rows x 2 columns]\n"
     ]
    }
   ],
   "source": [
    "import pandas as pd\n",
    "\n",
    "# Build a logistic regression model that detects if a string of text is a main genre \n",
    "electric = pd.read_csv('electric.csv', header=None)\n",
    "electric['is_electric'] = 1\n",
    "electric.rename(columns={0: 'electric_or_fossil'}, inplace=True)\n",
    "\n",
    "# Import a list of sub genres to use as a feature in the model\n",
    "fossil_fuel = pd.read_csv('fossil_fuel.csv', header=None)\n",
    "fossil_fuel['is_electric'] = 0\n",
    "fossil_fuel.rename(columns={0: 'electric_or_fossil'}, inplace=True)\n",
    "\n",
    "# Concatenate both the main genre and sub genre into one dataframe\n",
    "fossil_electric = pd.concat([electric, fossil_fuel])\n",
    "\n",
    "# Reset index after concatenation\n",
    "fossil_electric.reset_index(drop=True, inplace=True)\n",
    "\n",
    "print(fossil_electric)"
   ]
  },
  {
   "cell_type": "code",
   "execution_count": 9,
   "metadata": {},
   "outputs": [],
   "source": [
    "# ensure there is no NaN values in the electric_or_fossil column\n",
    "fossil_electric = fossil_electric[pd.notnull(fossil_electric['electric_or_fossil'])]"
   ]
  },
  {
   "cell_type": "code",
   "execution_count": 14,
   "metadata": {},
   "outputs": [
    {
     "name": "stdout",
     "output_type": "stream",
     "text": [
      "Accuracy: 0.9285714285714286\n",
      "\n",
      "Classification Report:\n",
      "               precision    recall  f1-score   support\n",
      "\n",
      "           0       0.95      0.97      0.96        38\n",
      "           1       0.67      0.50      0.57         4\n",
      "\n",
      "    accuracy                           0.93        42\n",
      "   macro avg       0.81      0.74      0.77        42\n",
      "weighted avg       0.92      0.93      0.92        42\n",
      "\n"
     ]
    },
    {
     "data": {
      "text/plain": [
       "['/Users/Lauren/Desktop/fossil_electric_vectorizer.joblib']"
      ]
     },
     "execution_count": 14,
     "metadata": {},
     "output_type": "execute_result"
    }
   ],
   "source": [
    "from sklearn.model_selection import train_test_split\n",
    "from sklearn.feature_extraction.text import TfidfVectorizer\n",
    "from sklearn.ensemble import RandomForestClassifier  # Import Random Forest classifier\n",
    "from sklearn.metrics import classification_report, accuracy_score\n",
    "import joblib\n",
    "\n",
    "# Split the dataset into training and testing sets\n",
    "X_train, X_test, y_train, y_test = train_test_split(fossil_electric['electric_or_fossil'], fossil_electric['is_electric'], test_size=0.2, random_state=42)\n",
    "\n",
    "# Vectorize the text using TF-IDF\n",
    "vectorizer = TfidfVectorizer(max_features=10000, ngram_range=(1,2))\n",
    "X_train_vect = vectorizer.fit_transform(X_train)\n",
    "X_test_vect = vectorizer.transform(X_test)\n",
    "\n",
    "# Train a Random Forest classifier\n",
    "model = RandomForestClassifier(n_estimators=100, random_state=42)  # You can adjust the number of trees (n_estimators)\n",
    "model.fit(X_train_vect, y_train)\n",
    "\n",
    "# Predict on the test set\n",
    "y_pred = model.predict(X_test_vect)\n",
    "\n",
    "# Evaluate the model\n",
    "print(\"Accuracy:\", accuracy_score(y_test, y_pred))\n",
    "print(\"\\nClassification Report:\\n\", classification_report(y_test, y_pred))\n",
    "\n",
    "# Serialize the model\n",
    "joblib.dump(model,'/Users/Lauren/Desktop/fossil_electric_rf_model.joblib')\n",
    "\n",
    "# Serialize the TF-IDF vectorizer as well\n",
    "joblib.dump(vectorizer,'/Users/Lauren/Desktop/fossil_electric_vectorizer.joblib')\n"
   ]
  },
  {
   "cell_type": "code",
   "execution_count": 13,
   "metadata": {},
   "outputs": [
    {
     "data": {
      "text/plain": [
       "['/Users/Lauren/Desktop/fossil_electric_vectorizer.joblib']"
      ]
     },
     "execution_count": 13,
     "metadata": {},
     "output_type": "execute_result"
    }
   ],
   "source": [
    "['/Users/Lauren/Desktop/fossil_electric_vectorizer.joblib']"
   ]
  },
  {
   "cell_type": "code",
   "execution_count": null,
   "metadata": {},
   "outputs": [],
   "source": []
  }
 ],
 "metadata": {
  "kernelspec": {
   "display_name": "Python 3",
   "language": "python",
   "name": "python3"
  },
  "language_info": {
   "codemirror_mode": {
    "name": "ipython",
    "version": 3
   },
   "file_extension": ".py",
   "mimetype": "text/x-python",
   "name": "python",
   "nbconvert_exporter": "python",
   "pygments_lexer": "ipython3",
   "version": "3.12.2"
  }
 },
 "nbformat": 4,
 "nbformat_minor": 2
}
